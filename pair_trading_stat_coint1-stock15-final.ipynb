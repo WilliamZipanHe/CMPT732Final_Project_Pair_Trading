{
 "cells": [
  {
   "cell_type": "code",
   "execution_count": 1,
   "metadata": {},
   "outputs": [],
   "source": [
    "import findspark\n",
    "findspark.init()\n",
    "import pyspark"
   ]
  },
  {
   "cell_type": "code",
   "execution_count": 2,
   "metadata": {},
   "outputs": [],
   "source": [
    "import sys\n",
    "from pyspark.context import SparkContext\n",
    "from pyspark.sql.session import SparkSession\n",
    "from pyspark.sql import SparkSession, functions, types, Window\n",
    "from pyspark.ml.regression import LinearRegression\n",
    "from pyspark.ml.feature import VectorAssembler, StandardScaler\n",
    "from pyspark.ml import Pipeline\n",
    "\n",
    "import statsmodels.api as sm\n",
    "from statsmodels.tsa.stattools import adfuller, coint\n",
    "#assert sys.version_info >= (3, 5) # make sure we have Python 3.5+\n",
    "import matplotlib.pyplot as plt\n",
    "import pandas as pd\n",
    "import numpy as np"
   ]
  },
  {
   "cell_type": "code",
   "execution_count": 3,
   "metadata": {},
   "outputs": [],
   "source": [
    "spark = SparkSession.builder.appName('example code').getOrCreate()\n",
    "spark.sparkContext.setLogLevel('WARN')\n",
    "sc = spark.sparkContext"
   ]
  },
  {
   "cell_type": "code",
   "execution_count": 4,
   "metadata": {},
   "outputs": [],
   "source": [
    "def to_null(c):\n",
    "    return functions.when(~(functions.col(c).isNull() | functions.isnan(functions.col(c)) | (functions.trim(functions.col(c)) == \"\")), functions.col(c))\n"
   ]
  },
  {
   "cell_type": "code",
   "execution_count": 5,
   "metadata": {},
   "outputs": [],
   "source": [
    "inputs = '15stock.csv'\n",
    "minute_schema = types.StructType([\n",
    "    types.StructField('DateTime', types.StringType()),\n",
    "    types.StructField('windcode', types.StringType()),   \n",
    "    types.StructField('close', types.DoubleType()),\n",
    "    #types.StructField('volume', types.IntegerType()),\n",
    "])\n",
    "\n",
    "minutedt = spark.read.csv(inputs, schema=minute_schema)\n",
    "minutedt=minutedt.select([to_null(c).alias(c) for c in minutedt.columns]).na.drop()\n",
    "\n",
    "minutedt.createOrReplaceTempView('minutedt')\n",
    "#minutedt.show(5)\n",
    "notnull = spark.sql(\"\"\" SELECT DateTime, SUBSTRING_INDEX(windcode, '.',1) AS symbol,close FROM minutedt \"\"\")\n",
    "notnull.createOrReplaceTempView('notnull')\n",
    "#notnull.show(5)"
   ]
  },
  {
   "cell_type": "code",
   "execution_count": 6,
   "metadata": {},
   "outputs": [],
   "source": [
    "pivoted = spark.sql(\"\"\"SELECT * FROM \n",
    "                    ( \n",
    "                    SELECT DateTime, symbol, close\n",
    "                    FROM notnull\n",
    "                    ) \n",
    "                    PIVOT \n",
    "                    (\n",
    "                    SUM(close)\n",
    "                    FOR symbol in (\"000008\" AS a, \"000009\" AS b, '000010' AS c, '000011' AS d, '000012' AS e, \"000014\" AS f, \"000016\" AS g, '000017' AS h, '000020' AS i, '000021' AS j)                    \n",
    "                    ) \n",
    "                    ORDER BY DateTime \"\"\").cache()\n",
    "pivoted.createOrReplaceTempView('pivoted')\n",
    "\n",
    "dt = spark.sql(\"\"\"SELECT DateTime, a,b,c,d,e,f,g,h ,i,j FROM pivoted \"\"\").cache()\n",
    "dt=dt.select([to_null(c).alias(c) for c in dt.columns]).na.drop()\n",
    "dt.createOrReplaceTempView('dt')\n",
    "\n",
    "train = spark.sql(\"\"\" SELECT * FROM dt WHERE DateTime < '2019-10-01 08:00:00' \"\"\").cache()\n",
    "train.createOrReplaceTempView('train')\n",
    "\n",
    "test = spark.sql(\"\"\" SELECT * FROM dt WHERE DateTime > '2019-10-01 08:00:00'\"\"\").cache()\n",
    "test.createOrReplaceTempView('test')"
   ]
  },
  {
   "cell_type": "code",
   "execution_count": 7,
   "metadata": {},
   "outputs": [],
   "source": [
    "regdt = spark.sql(\"\"\" SELECT j,i,h,g,f,e,d,c,b,a FROM train\"\"\").cache()\n",
    "regdt.createOrReplaceTempView('regdt')\n",
    "def find_coint(a):\n",
    "    pvalue ={}\n",
    "    count =0 \n",
    "    for i in regdt.columns:\n",
    "        count +=1\n",
    "        for j in regdt.columns[count:]:\n",
    "            if i != j:\n",
    "    #calculate slope, intercept using 2 year(2018-2019) window between two underlyers to determine their relationship\n",
    "                logdt = spark.sql(\"\"\" SELECT log({0}) AS y,log({1}) AS x FROM regdt\"\"\".format(i,j))\n",
    "                logdt.createOrReplaceTempView('logdt')\n",
    "                vectorAssembler = VectorAssembler(inputCols=['x'], outputCol=\"features\")\n",
    "\n",
    "                lr = LinearRegression(featuresCol='features', labelCol= 'y')\n",
    "\n",
    "                stages = [vectorAssembler, lr]  \n",
    "\n",
    "                pipeline = Pipeline(stages=stages)\n",
    "                model = pipeline.fit(logdt)\n",
    "\n",
    "                slope = model.stages[-1].coefficients[0]\n",
    "                intercept = model.stages[-1].intercept\n",
    "\n",
    "                spddt = spark.sql(\"\"\" SELECT (y - {0}* x - {1} )AS spread FROM logdt\"\"\".format(slope,intercept))\n",
    "                spddt.createOrReplaceTempView('spddt')\n",
    "                spddt = spddt.toPandas()\n",
    "                adfSpread = adfuller(spddt['spread'] , autolag ='AIC')\n",
    "                adf_pvalue = adfSpread[1]\n",
    "                #print(i,j,slope,intercept,pvalue)\n",
    "                pvalue[(i,j)] = (adf_pvalue, intercept, slope)\n",
    "                \n",
    "    min_pvalue = 0.05\n",
    "    slope =0\n",
    "    intercept = 0\n",
    "    pair1 = 0\n",
    "    pair2 = 0\n",
    "    for k,v in pvalue.items():\n",
    "        if v[0] < min_pvalue:\n",
    "            min_pvalue = v[0]\n",
    "            slope = v[2]\n",
    "            intercept = v[1]\n",
    "            pair1 = k[0]\n",
    "            pair2 = k[1]      \n",
    "    \n",
    "    return (pair1,pair2, min_pvalue, slope, intercept)    "
   ]
  },
  {
   "cell_type": "code",
   "execution_count": 8,
   "metadata": {},
   "outputs": [],
   "source": [
    "coint_pair = find_coint(regdt)\n",
    "pair1 = coint_pair[0]\n",
    "pair2 = coint_pair[1]\n",
    "slope = coint_pair[3]\n",
    "intercept = coint_pair[4]"
   ]
  },
  {
   "cell_type": "code",
   "execution_count": 9,
   "metadata": {},
   "outputs": [],
   "source": [
    "#calculate spread of the train window \n",
    "dt1 = spark.sql(\"\"\" SELECT DateTime, j,i,h,g,f,e,d,c,b,a FROM train\"\"\")\n",
    "dt1.createOrReplaceTempView('dt1')\n",
    "dt2 = spark.sql(\"\"\" SELECT DateTime, {0}, {1}, (log({0}) - log({1}) * {2} - {3}) AS spread FROM dt1 \"\"\".format(pair1,pair2,slope,intercept))\n",
    "dt2.createOrReplaceTempView('dt2')\n",
    "mu = dt2.agg(functions.avg(dt2['spread'])).collect()[0][0]\n",
    "std = dt2.agg(functions.stddev(dt2['spread'])).collect()[0][0]\n",
    "#set trading signal boundries if the spread is 2 times standard deviation from spread mean\n",
    "up = mu +std*1.8\n",
    "down = mu - std*1.8\n",
    "#set stop_loss point\n",
    "upsl = mu +std*2.8\n",
    "downsl = mu - std*2.8\n",
    "#set take profit point\n",
    "uptp = mu +std*0.2\n",
    "downtp = mu - std*0.2"
   ]
  },
  {
   "cell_type": "code",
   "execution_count": 10,
   "metadata": {
    "scrolled": false
   },
   "outputs": [
    {
     "name": "stderr",
     "output_type": "stream",
     "text": [
      "C:\\Users\\Belo\\Anaconda3\\lib\\site-packages\\pandas\\plotting\\_converter.py:129: FutureWarning: Using an implicitly registered datetime converter for a matplotlib plotting method. The converter was registered by pandas on import. Future versions of pandas will require you to explicitly register matplotlib converters.\n",
      "\n",
      "To register the converters:\n",
      "\t>>> from pandas.plotting import register_matplotlib_converters\n",
      "\t>>> register_matplotlib_converters()\n",
      "  warnings.warn(msg, FutureWarning)\n"
     ]
    },
    {
     "data": {
      "text/plain": [
       "<matplotlib.lines.Line2D at 0x200cc64c908>"
      ]
     },
     "execution_count": 10,
     "metadata": {},
     "output_type": "execute_result"
    },
    {
     "data": {
      "image/png": "[encoded data removed]",
      "text/plain": [
       "<Figure size 432x288 with 1 Axes>"
      ]
     },
     "metadata": {
      "needs_background": "light"
     },
     "output_type": "display_data"
    }
   ],
   "source": [
    "#plot on train window \n",
    "a = dt2.toPandas()\n",
    "a['DateTime'] = pd.to_datetime(a['DateTime'], format='%Y-%m-%d %H:%M:%S')\n",
    "plt.plot(a['DateTime'],a['spread'])\n",
    "plt.axhline(up,color='blue',ls='-')\n",
    "plt.axhline(down,color='blue',ls='-')\n",
    "plt.axhline(uptp,color='green',ls='--')\n",
    "plt.axhline(downtp,color='green',ls='--')\n",
    "plt.axhline(upsl,color='red',ls='-.')\n",
    "plt.axhline(downsl,color='red',ls='-.')\n",
    "#plt.plot(a['I'])\n",
    "#plt.plot(a['J'])"
   ]
  },
  {
   "cell_type": "code",
   "execution_count": null,
   "metadata": {},
   "outputs": [],
   "source": [
    "#dt3 = spark.sql(\"\"\" SELECT DateTime, {0},{1} FROM test\"\"\".format(pair1,pair2))\n",
    "#dt3.createOrReplaceTempView('dt3')\n"
   ]
  },
  {
   "cell_type": "code",
   "execution_count": 11,
   "metadata": {},
   "outputs": [
    {
     "data": {
      "text/plain": [
       "<matplotlib.lines.Line2D at 0x200cc7adf98>"
      ]
     },
     "execution_count": 11,
     "metadata": {},
     "output_type": "execute_result"
    },
    {
     "data": {
      "image/png": "[encoded data removed]",
      "text/plain": [
       "<Figure size 432x288 with 1 Axes>"
      ]
     },
     "metadata": {
      "needs_background": "light"
     },
     "output_type": "display_data"
    }
   ],
   "source": [
    "test1 = spark.sql(\"\"\" SELECT DateTime, {0}, {1}, (log({0}) - log({1}) * {2} - {3}) AS spread FROM test \"\"\".format(pair1,pair2,slope,intercept))\n",
    "test1.createOrReplaceTempView('test1')\n",
    "b = test1.toPandas()\n",
    "b['DateTime'] = pd.to_datetime(b['DateTime'], format='%Y-%m-%d %H:%M:%S')\n",
    "plt.plot(b['DateTime'],b['spread'])\n",
    "plt.axhline(up,color='blue',ls='-')\n",
    "plt.axhline(down,color='blue',ls='-')\n",
    "plt.axhline(uptp,color='green',ls='--')\n",
    "plt.axhline(downtp,color='green',ls='--')\n",
    "plt.axhline(upsl,color='red',ls='-.')\n",
    "plt.axhline(downsl,color='red',ls='-.')"
   ]
  },
  {
   "cell_type": "code",
   "execution_count": 12,
   "metadata": {},
   "outputs": [],
   "source": [
    "#use up/down boundries to determine trade position in test dataset (2020)\n",
    "test1 = test1.withColumn(\"up\", functions.lit(up) )\n",
    "test1 = test1.withColumn(\"down\",functions.lit( down) )\n",
    "test1 = test1.withColumn(\"upsl\",functions.lit( upsl) )\n",
    "test1 = test1.withColumn(\"downsl\", functions.lit(downsl) )\n",
    "test1 = test1.withColumn(\"uptp\", functions.lit(uptp) )\n",
    "test1 = test1.withColumn(\"downtp\", functions.lit(downtp) )\n",
    "test1 = test1.withColumn(\"mu\",functions.lit( mu) )\n",
    "test1.createOrReplaceTempView('test1')"
   ]
  },
  {
   "cell_type": "code",
   "execution_count": 13,
   "metadata": {},
   "outputs": [],
   "source": [
    "#set trade positions based on signal\n",
    "test1 = spark.sql(\"\"\" SELECT DateTime, {0}, {1}, spread,\n",
    "            CASE \n",
    "                WHEN spread >=upsl THEN 3\n",
    "                WHEN spread >=up AND spread <upsl THEN 2\n",
    "                WHEN spread >=uptp AND spread <up THEN 1\n",
    "                WHEN spread < downsl THEN -3\n",
    "                WHEN spread < down AND spread >=downsl THEN -2\n",
    "                WHEN spread < downtp AND spread >=down THEN -1\n",
    "            ELSE 0\n",
    "            END AS level FROM test1 \"\"\" .format(pair1,pair2))\n",
    "\n",
    "test1.createOrReplaceTempView('test1')"
   ]
  },
  {
   "cell_type": "code",
   "execution_count": 14,
   "metadata": {},
   "outputs": [],
   "source": [
    "#set trade signal\n",
    "test1 = test1.withColumn('position',functions.lit(0) )\n",
    "test1 = test1.withColumn('signal',functions.lit(0) )\n",
    "test1 = test1.toPandas()\n",
    "for i in range(1, len(test1)):\n",
    "    if test1['level'][i-1] ==1 and test1['level'][i] ==2:      #open position -> short I, long J\n",
    "        test1.loc[i,'signal'] = -2\n",
    "    elif test1['level'][i-1] ==1 and test1['level'][i] ==0:      #take profit -I+J -> long I, short J\n",
    "        test1.loc[i,'signal'] = 2 \n",
    "    elif test1['level'][i-1] ==2 and test1['level'][i] ==3:      #stop loss -I+J -> long I, short J\n",
    "        test1.loc[i,'signal'] = 3 \n",
    "    elif test1['level'][i-1] == -1 and test1['level'][i] == -2:      #open position -> long I, short J\n",
    "        test1.loc[i,'signal'] = 1 \n",
    "    elif test1['level'][i-1] == -1 and test1['level'][i] ==0:      #take profit +I-J -> short I, long J\n",
    "        test1.loc[i,'signal'] = -1\n",
    "    elif test1['level'][i-1] ==-2 and test1['level'][i] ==-3:      #stop loss +I-J -> short I, long J\n",
    "        test1.loc[i,'signal'] = -3 "
   ]
  },
  {
   "cell_type": "code",
   "execution_count": 15,
   "metadata": {},
   "outputs": [],
   "source": [
    "#set trade position \n",
    "for i in range(1,len(test1)):\n",
    "    test1.loc[i,'position'] = test1['position'][i-1]\n",
    "    if test1['signal'][i] == 1:\n",
    "        test1.loc[i,'position'] = 1\n",
    "    elif test1['signal'][i] == -2:\n",
    "        test1.loc[i,'position'] = -1\n",
    "    elif test1['signal'][i] == -1 and test1['position'][i-1] == 1:\n",
    "        test1.loc[i,'position'] = 0\n",
    "    elif test1['signal'][i] == 2 and test1['position'][i-1] == -1:\n",
    "        test1.loc[i,'position'] = 0\n",
    "    elif test1['signal'][i] == 3:\n",
    "        test1.loc[i,'position'] = 0\n",
    "    elif test1['signal'][i] == -3:\n",
    "        test1.loc[i,'position'] = 0"
   ]
  },
  {
   "cell_type": "code",
   "execution_count": 16,
   "metadata": {},
   "outputs": [],
   "source": [
    "size=1000\n",
    "test1['pair1_share'] = test1['position']*size\n",
    "test1['pair2_share'] = round( - test1['pair1_share'] *slope *  test1[pair1]/ test1[pair2] )\n",
    "test1['cash'] = 5000"
   ]
  },
  {
   "cell_type": "code",
   "execution_count": 17,
   "metadata": {},
   "outputs": [],
   "source": [
    "test3 = test1\n",
    "for i in range(1,len(test3)):\n",
    "    test3.loc[i,'pair2_share'] = test3['pair2_share'][i-1]\n",
    "    test3.loc[i,'cash'] = test3['cash'][i-1] \n",
    "    if test3['position'][i-1] == 0 and test3['position'][i]  ==1:\n",
    "        test3.loc[i,'pair2_share'] = round( - test3['pair1_share'][i] *slope *  test3[pair1][i]/ test3[pair2][i] )\n",
    "        test3.loc[i, 'cash'] =  test3['cash'][i-1] - (test3['pair1_share'][i] *  test3[pair1][i] + test3['pair2_share'][i] *  test3[pair2][i] )\n",
    "    elif test3['position'][i-1] == 0 and test3['position'][i]  == -1:\n",
    "        test3.loc[i,'pair2_share'] = round( - test3['pair1_share'][i] *slope *  test3[pair1][i]/ test3[pair2][i] )\n",
    "        test3.loc[i, 'cash'] =  test3['cash'][i-1] - (test3['pair1_share'][i] *  test3[pair1][i] + test3['pair2_share'][i] *  test3[pair2][i] )\n",
    "    elif test3['position'][i-1] == 1 and test3['position'][i]  ==0:\n",
    "        test3.loc[i,'pair2_share'] = 0\n",
    "        test3.loc[i,'cash'] =  test3['cash'][i-1] + (test3['pair1_share'][i-1] *  test3[pair1][i] + test3['pair2_share'][i-1] *  test3[pair2][i] )\n",
    "    elif test3['position'][i-1] == -1 and test3['position'][i]  == 0:\n",
    "        test3.loc[i,'pair2_share'] = 0\n",
    "        test3.loc[i,'cash'] =  test3['cash'][i-1] + (test3['pair1_share'][i-1] *  test3[pair1][i] + test3['pair2_share'][i-1] *  test3[pair2][i] )\n",
    "\n",
    "test3['asset'] = test3['cash']+ test3['pair1_share']*test3[pair1] +test3['pair2_share']*test3[pair2] "
   ]
  },
  {
   "cell_type": "code",
   "execution_count": 18,
   "metadata": {},
   "outputs": [
    {
     "data": {
      "image/png": "[encoded data removed]",
      "text/plain": [
       "<Figure size 432x288 with 1 Axes>"
      ]
     },
     "metadata": {
      "needs_background": "light"
     },
     "output_type": "display_data"
    }
   ],
   "source": [
    "b = test3\n",
    "b['DateTime'] = pd.to_datetime(b['DateTime'], format='%Y-%m-%d %H:%M:%S')\n",
    "plt.plot(b['DateTime'],b['cash'] )\n",
    "plt.plot(b['DateTime'],b['asset'] )\n",
    "plt.legend()\n",
    "plt.show()\n"
   ]
  },
  {
   "cell_type": "code",
   "execution_count": 19,
   "metadata": {},
   "outputs": [
    {
     "data": {
      "image/png": "[encoded data removed]",
      "text/plain": [
       "<Figure size 432x288 with 1 Axes>"
      ]
     },
     "metadata": {
      "needs_background": "light"
     },
     "output_type": "display_data"
    }
   ],
   "source": [
    "plt.plot(b['DateTime'],b['pair1_share'],color ='r' )\n",
    "plt.plot(b['DateTime'],b['pair2_share'], color ='b' )\n",
    "plt.legend()\n",
    "plt.show()\n"
   ]
  },
  {
   "cell_type": "code",
   "execution_count": 37,
   "metadata": {
    "scrolled": true
   },
   "outputs": [],
   "source": [
    "test3.to_csv('retcsv.csv', index = True) "
   ]
  },
  {
   "cell_type": "code",
   "execution_count": null,
   "metadata": {},
   "outputs": [],
   "source": []
  },
  {
   "cell_type": "code",
   "execution_count": 276,
   "metadata": {},
   "outputs": [],
   "source": []
  },
  {
   "cell_type": "code",
   "execution_count": null,
   "metadata": {},
   "outputs": [],
   "source": []
  }
 ],
 "metadata": {
  "kernelspec": {
   "display_name": "Python 3",
   "language": "python",
   "name": "python3"
  },
  "language_info": {
   "codemirror_mode": {
    "name": "ipython",
    "version": 3
   },
   "file_extension": ".py",
   "mimetype": "text/x-python",
   "name": "python",
   "nbconvert_exporter": "python",
   "pygments_lexer": "ipython3",
   "version": "3.7.3"
  }
 },
 "nbformat": 4,
 "nbformat_minor": 2
}
